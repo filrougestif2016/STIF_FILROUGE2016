{
 "cells": [
  {
   "cell_type": "markdown",
   "metadata": {},
   "source": [
    "Faisant suite au document présentant l'usage de la LSI et LDA, nous proposons ici de constituer des groupes de tweets rapprochés par similarité du point vue sémantique.\n",
    "Nous partons d'un corpus d'alertes constitué cette fois automatiquement par une requête elasticsearch filtrant sur une terminologie appropriée toujours sur la journée du 17 avril 2015.\n",
    "Ce document adapte le post http://sujitpal.blogspot.fr/2014/08/topic-modeling-with-gensim-over-past.html au contexte des tweets d'alertes."
   ]
  },
  {
   "cell_type": "markdown",
   "metadata": {},
   "source": [
    "Constitution du dictionnaire et vectorisation du corpus comme dans le document précédent"
   ]
  },
  {
   "cell_type": "code",
   "execution_count": 3,
   "metadata": {
    "collapsed": true
   },
   "outputs": [],
   "source": [
    "import logging\n",
    "import pandas as pd\n",
    "from nltk.corpus import stopwords\n",
    "from nltk.tokenize import TweetTokenizer\n",
    "from nltk.tokenize import RegexpTokenizer\n",
    "from itertools import chain\n",
    "from gensim import utils\n",
    "import re\n",
    "import os\n",
    "import numpy as np\n",
    "import matplotlib.pyplot as plt\n",
    "from sklearn.cluster import KMeans\n",
    "import matplotlib.pyplot as plt\n",
    "from codecs import open\n",
    "%matplotlib inline\n",
    "\n",
    "stop_word_list = stopwords.words('french')\n",
    "\n",
    "logging.basicConfig(format='%(asctime)s : %(levelname)s : %(message)s', level=logging.INFO)\n",
    "\n",
    "from gensim import corpora, models, similarities\n",
    "\n",
    "data_dir='/infres/ir430/bd/stif/PYTHON/PRES_9_MARS/'"
   ]
  },
  {
   "cell_type": "code",
   "execution_count": 4,
   "metadata": {
    "collapsed": false
   },
   "outputs": [],
   "source": [
    "def emoji_remove(word):\n",
    "    try:\n",
    "        # Wide UCS-4 build\n",
    "        myre = re.compile(u'['\n",
    "            u'\\U0001F300-\\U0001F64F'\n",
    "            u'\\U0001F680-\\U0001F6FF'\n",
    "            u'\\u2600-\\u26FF\\u2700-\\u27BF]+', \n",
    "            re.UNICODE)\n",
    "    except re.error:\n",
    "        # Narrow UCS-2 build\n",
    "        myre = re.compile(u'('\n",
    "            u'\\ud83c[\\udf00-\\udfff]|'\n",
    "            u'\\ud83d[\\udc00-\\ude4f\\ude80-\\udeff]|'\n",
    "            u'[\\u2600-\\u26FF\\u2700-\\u27BF])+', \n",
    "            re.UNICODE)\n",
    "    return(myre.sub('', word))\n",
    "def transform_line(line):\n",
    "    tokens = [word for word in [emoji_remove(re.sub(r'[\\\\\".,?!:;()\\[\\]\\{\\}/]' , \"\", word) ) \n",
    "                            for word in chain.from_iterable([regexp_tokenizer.tokenize(word) \n",
    "                                                             for word in tweet_tokenizer.tokenize(line.lower())]) \n",
    "                            if word not in stop_word_list] \n",
    "          if len(word)>0]\n",
    "    return tokens\n",
    "\n",
    "infilename = data_dir +'alerts.out'\n",
    "with open(infilename, 'r',encoding='utf-8', errors='ignore') as f:\n",
    "    lines = f.readlines()\n",
    "\n",
    "tweet_tokenizer = TweetTokenizer()\n",
    "regexp_tokenizer = RegexpTokenizer('[^\\']+')\n",
    "\n",
    "texts = [ transform_line(line) for line in lines ]\n",
    "\n",
    "dictionary = corpora.Dictionary(texts)\n",
    "dictionary.save(data_dir +'alerts.dict')\n",
    "corpus = [dictionary.doc2bow(text) for text in texts]\n",
    "corpora.MmCorpus.serialize(data_dir +'alerts.mm', corpus)"
   ]
  },
  {
   "cell_type": "markdown",
   "metadata": {},
   "source": [
    "On décide de réduire l'espace à 2 dimensions afin de clustériser et de pouvoir en constater visuellement le résultat. "
   ]
  },
  {
   "cell_type": "code",
   "execution_count": 6,
   "metadata": {
    "collapsed": false
   },
   "outputs": [],
   "source": [
    "tfidf = models.TfidfModel(corpus,normalize=True)\n",
    "corpus_tfidf = tfidf[corpus]\n",
    "lsi =  models.LsiModel(corpus_tfidf, id2word=dictionary, num_topics=2)\n",
    "corpus_lsi=lsi[corpus_tfidf]\n",
    "fcoords = open(os.path.join(data_dir,\"coords.csv\"),'wb')\n",
    "for  vector in corpus_lsi:\n",
    "    if len(vector) != 2:\n",
    "        continue\n",
    "    text = \"%6.4f\\t%6.4f\\n\" % (vector[0][1],vector[1][1])\n",
    "    fcoords.write(text)\n",
    "fcoords.close()"
   ]
  },
  {
   "cell_type": "markdown",
   "metadata": {},
   "source": [
    "On utilise l'algorithme K-Means de sklearn pour partitionner les points. On fait varier le nombre de clusters de 1 à 10 en sauvegardant à chaque étape les inerties calculées par l'algorithme. On affiche ensuite la courbe de cette inertie en fonction du nombre de clusters. Le nombre de clusters est sélectionné par la technique du elbow point http://www.analyticbridge.com/profiles/blogs/identifying-the-number-of-clusters-finally-a-solution"
   ]
  },
  {
   "cell_type": "code",
   "execution_count": 7,
   "metadata": {
    "collapsed": false
   },
   "outputs": [
    {
     "data": {
      "text/plain": [
       "<matplotlib.text.Text at 0x7f83e54132d0>"
      ]
     },
     "execution_count": 7,
     "metadata": {},
     "output_type": "execute_result"
    },
    {
     "data": {
      "image/png": "[encoded data removed]",
      "text/plain": [
       "<matplotlib.figure.Figure at 0x7f83672d0290>"
      ]
     },
     "metadata": {},
     "output_type": "display_data"
    }
   ],
   "source": [
    "MAX_K=10\n",
    "\n",
    "X = np.loadtxt(os.path.join(data_dir,\"coords.csv\"), delimiter=\"\\t\")\n",
    "ks = range(1,MAX_K+1)\n",
    "inertias = np.zeros(MAX_K)\n",
    "diff = np.zeros(MAX_K)\n",
    "diff2 = np.zeros(MAX_K)\n",
    "diff3 = np.zeros(MAX_K)\n",
    "for k in ks:\n",
    "    kmeans = KMeans(k).fit(X)\n",
    "    inertias[k - 1] = kmeans.inertia_\n",
    "    # first difference\n",
    "    if k > 1:\n",
    "        diff[k - 1] = inertias[k - 1] - inertias[k - 2]\n",
    "    # second difference\n",
    "    if k > 2:\n",
    "        diff2[k - 1] = diff[k - 1] - diff[k - 2]\n",
    "    # third difference\n",
    "    if k > 3:\n",
    "        diff3[k - 1] = diff2[k - 1] - diff2[k - 2]\n",
    "\n",
    "elbow = np.argmin(diff3[3:]) + 3\n",
    "\n",
    "plt.plot(ks, inertias, \"b*-\")\n",
    "plt.plot(ks[elbow], inertias[elbow], marker='o', markersize=12,\n",
    "         markeredgewidth=2, markeredgecolor='r', markerfacecolor=None)\n",
    "plt.ylabel(\"Inertia\")\n",
    "plt.xlabel(\"K\")"
   ]
  },
  {
   "cell_type": "markdown",
   "metadata": {},
   "source": [
    "Affichage des clusters"
   ]
  },
  {
   "cell_type": "code",
   "execution_count": 8,
   "metadata": {
    "collapsed": false
   },
   "outputs": [
    {
     "data": {
      "image/png": "[encoded data removed]",
      "text/plain": [
       "<matplotlib.figure.Figure at 0x7f83672d87d0>"
      ]
     },
     "metadata": {},
     "output_type": "display_data"
    }
   ],
   "source": [
    "NUM_TOPICS = elbow + 1\n",
    "kmeans = KMeans(NUM_TOPICS).fit(X)\n",
    "y = kmeans.labels_\n",
    "\n",
    "colors = [\"b\", \"g\", \"r\", \"m\"]\n",
    "for i in range(X.shape[0]):\n",
    "    plt.scatter(X[i][0], X[i][1], c=colors[y[i]], s=10)\n",
    "plt.show()"
   ]
  },
  {
   "cell_type": "markdown",
   "metadata": {},
   "source": [
    "Maintenant qu'on a une estimation du nombre de clusters, on utilise l'analyse LDA pour visualiser les concepts associés à chaque cluster"
   ]
  },
  {
   "cell_type": "code",
   "execution_count": 9,
   "metadata": {
    "collapsed": false
   },
   "outputs": [
    {
     "name": "stdout",
     "output_type": "stream",
     "text": [
      "[3 3 3 ..., 1 3 1]\n"
     ]
    }
   ],
   "source": [
    "print(kmeans.labels_)"
   ]
  },
  {
   "cell_type": "code",
   "execution_count": 10,
   "metadata": {
    "collapsed": false
   },
   "outputs": [
    {
     "name": "stderr",
     "output_type": "stream",
     "text": [
      "WARNING:gensim.models.ldamodel:too few updates, training might not converge; consider increasing the number of passes or iterations to improve accuracy\n"
     ]
    }
   ],
   "source": [
    "lda = models.LdaModel(corpus, id2word=dictionary, num_topics=NUM_TOPICS)\n",
    "final_topics = lda.print_topics(NUM_TOPICS)"
   ]
  },
  {
   "cell_type": "code",
   "execution_count": 11,
   "metadata": {
    "collapsed": false
   },
   "outputs": [
    {
     "name": "stdout",
     "output_type": "stream",
     "text": [
      "[0.023, 0.022, 0.02, 0.018, 0.016, 0.015, 0.014, 0.013, 0.012, 0.011]\n",
      "[u'courant', u'rer', u'a', u'les', u'rt', u'b', u'trafic', u'nord', u'#rerb', u'incendie']\n",
      "[0.03, 0.019, 0.018, 0.018, 0.018, 0.016, 0.016, 0.015, 0.015, 0.015]\n",
      "[u'les', u'rer', u'sens', u'incendie', u'b', u'coups', u'deux', u'#rerb', u'trafic', u'courneuve']\n",
      "[0.039, 0.029, 0.026, 0.024, 0.021, 0.016, 0.015, 0.015, 0.015, 0.014]\n",
      "[u'rer', u'incendie', u'les', u'b', u'courneuve', u'a', u'sens', u'trafic', u'courant', u'coups']\n",
      "[0.035, 0.034, 0.034, 0.031, 0.026, 0.019, 0.016, 0.016, 0.016, 0.014]\n",
      "[u'rer', u'b', u'incendie', u'trafic', u'a', u'courneuve', u'nord', u'rt', u'interrompu', u'paris']\n"
     ]
    }
   ],
   "source": [
    "for line in final_topics:\n",
    "    scores = [float(x.split(\"*\")[0]) for x in line[1].split(\" + \")]\n",
    "    words = [x.split(\"*\")[1] for x in line[1].split(\" + \")]\n",
    "    print (scores)\n",
    "    print (words)"
   ]
  },
  {
   "cell_type": "code",
   "execution_count": null,
   "metadata": {
    "collapsed": true
   },
   "outputs": [],
   "source": []
  }
 ],
 "metadata": {
  "kernelspec": {
   "display_name": "Python 2",
   "language": "python",
   "name": "python2"
  },
  "language_info": {
   "codemirror_mode": {
    "name": "ipython",
    "version": 2
   },
   "file_extension": ".py",
   "mimetype": "text/x-python",
   "name": "python",
   "nbconvert_exporter": "python",
   "pygments_lexer": "ipython2",
   "version": "2.7.11"
  }
 },
 "nbformat": 4,
 "nbformat_minor": 0
}
