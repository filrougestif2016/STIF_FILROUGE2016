{
 "cells": [
  {
   "cell_type": "code",
   "execution_count": 34,
   "metadata": {
    "collapsed": true
   },
   "outputs": [],
   "source": [
    "from elasticsearch import Elasticsearch\n",
    "import operator\n",
    "\n",
    "es = Elasticsearch([{'host': 'lame14.enst.fr', 'port': 50014}])\n",
    "index_from = 'info_trafic'\n",
    "index_to = 'stif_info_trafic'"
   ]
  },
  {
   "cell_type": "code",
   "execution_count": 35,
   "metadata": {
    "collapsed": false
   },
   "outputs": [],
   "source": [
    "def read_info_trafic_page(size, from_, query):\n",
    "    result = []\n",
    "    res = es.search(index=index_from, body={\"query\": query}, size=size, from_=from_)\n",
    "    res = res['hits']['hits']\n",
    "    for i in range(0, len(res)):\n",
    "        result = reduce(operator.add, [result, res[i]['_source']['infos']])\n",
    "    return result\n",
    "\n",
    "res = read_info_trafic_page(1000, 0, {\"matchAll\": {}})"
   ]
  },
  {
   "cell_type": "code",
   "execution_count": 36,
   "metadata": {
    "collapsed": false
   },
   "outputs": [
    {
     "data": {
      "text/plain": [
       "{u'acknowledged': True}"
      ]
     },
     "execution_count": 36,
     "metadata": {},
     "output_type": "execute_result"
    }
   ],
   "source": [
    "index_settings = {\n",
    "    \"settings\": {\n",
    "        \"number_of_shards\": 1,\n",
    "        \"number_of_replicas\": 0\n",
    "    }\n",
    "}\n",
    "es.indices.create(index=index_to, ignore=400, body=index_settings)"
   ]
  },
  {
   "cell_type": "code",
   "execution_count": 37,
   "metadata": {
    "collapsed": true
   },
   "outputs": [],
   "source": [
    "for item in res:\n",
    "    res = es.index(index=index_to, doc_type='stif_info_trafic', body=item, id=item[\"pub_date\"])"
   ]
  },
  {
   "cell_type": "code",
   "execution_count": null,
   "metadata": {
    "collapsed": true
   },
   "outputs": [],
   "source": []
  }
 ],
 "metadata": {
  "kernelspec": {
   "display_name": "Python 2",
   "language": "python",
   "name": "python2"
  },
  "language_info": {
   "codemirror_mode": {
    "name": "ipython",
    "version": 2
   },
   "file_extension": ".py",
   "mimetype": "text/x-python",
   "name": "python",
   "nbconvert_exporter": "python",
   "pygments_lexer": "ipython2",
   "version": "2.7.11"
  }
 },
 "nbformat": 4,
 "nbformat_minor": 0
}
